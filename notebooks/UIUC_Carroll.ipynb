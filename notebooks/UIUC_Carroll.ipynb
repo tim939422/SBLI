{
 "cells": [
  {
   "cell_type": "code",
   "execution_count": 1,
   "metadata": {},
   "outputs": [],
   "source": [
    "%matplotlib inline\n",
    "# thirdparty packages\n",
    "import matplotlib.pyplot as plt\n",
    "import numpy as np\n",
    "\n",
    "import sys\n",
    "sys.path.append('/home/duosifan/Desktop/research/SBLI/src')\n",
    "from isentropic.isentropic import Isentropic"
   ]
  },
  {
   "cell_type": "code",
   "execution_count": 3,
   "metadata": {},
   "outputs": [
    {
     "name": "stdout",
     "output_type": "stream",
     "text": [
      "T/T0     =      0.68965517\n",
      "P/P0     =      0.27240307\n",
      "rho/rho0 =      0.39498445\n"
     ]
    }
   ],
   "source": [
    "# Test isentropic relation\n",
    "M = 1.5\n",
    "isen = Isentropic()\n",
    "print(f'T/T0     = {1/isen.get_t_ratio(M):15.8f}')\n",
    "print(f'P/P0     = {1/isen.get_p_ratio(M):15.8f}')\n",
    "print(f'rho/rho0 = {1/isen.get_r_ratio(M):15.8f}')"
   ]
  }
 ],
 "metadata": {
  "kernelspec": {
   "display_name": ".venv",
   "language": "python",
   "name": "python3"
  },
  "language_info": {
   "codemirror_mode": {
    "name": "ipython",
    "version": 3
   },
   "file_extension": ".py",
   "mimetype": "text/x-python",
   "name": "python",
   "nbconvert_exporter": "python",
   "pygments_lexer": "ipython3",
   "version": "3.8.10"
  },
  "orig_nbformat": 4
 },
 "nbformat": 4,
 "nbformat_minor": 2
}
